{
 "cells": [
  {
   "cell_type": "code",
   "execution_count": 1,
   "id": "268b0e60",
   "metadata": {
    "execution": {
     "iopub.execute_input": "2022-12-16T15:09:04.975472Z",
     "iopub.status.busy": "2022-12-16T15:09:04.975037Z",
     "iopub.status.idle": "2022-12-16T15:09:04.985505Z",
     "shell.execute_reply": "2022-12-16T15:09:04.984741Z"
    },
    "papermill": {
     "duration": 0.01884,
     "end_time": "2022-12-16T15:09:04.987684",
     "exception": false,
     "start_time": "2022-12-16T15:09:04.968844",
     "status": "completed"
    },
    "tags": []
   },
   "outputs": [],
   "source": [
    "import numpy as np\n",
    "import matplotlib.pyplot as plt\n",
    "%matplotlib inline"
   ]
  },
  {
   "cell_type": "code",
   "execution_count": 2,
   "id": "3c2e33e1",
   "metadata": {
    "execution": {
     "iopub.execute_input": "2022-12-16T15:09:04.996203Z",
     "iopub.status.busy": "2022-12-16T15:09:04.995837Z",
     "iopub.status.idle": "2022-12-16T15:09:05.001715Z",
     "shell.execute_reply": "2022-12-16T15:09:05.000725Z"
    },
    "papermill": {
     "duration": 0.012504,
     "end_time": "2022-12-16T15:09:05.003850",
     "exception": false,
     "start_time": "2022-12-16T15:09:04.991346",
     "status": "completed"
    },
    "tags": []
   },
   "outputs": [],
   "source": [
    "def sigmoid(z):\n",
    "    return 1 / (1 + np.exp(-z))\n",
    "def relu(z):\n",
    "    return np.maximum(0, z)\n",
    "def tanh(z):\n",
    "    return np.tanh(z)\n",
    "def softmax(z):\n",
    "    return (np.exp(z - np.max(z)) / np.exp(x - np.max(x)).sum())"
   ]
  },
  {
   "cell_type": "code",
   "execution_count": 3,
   "id": "400a45df",
   "metadata": {
    "execution": {
     "iopub.execute_input": "2022-12-16T15:09:05.012181Z",
     "iopub.status.busy": "2022-12-16T15:09:05.011794Z",
     "iopub.status.idle": "2022-12-16T15:09:05.018804Z",
     "shell.execute_reply": "2022-12-16T15:09:05.018038Z"
    },
    "papermill": {
     "duration": 0.013966,
     "end_time": "2022-12-16T15:09:05.021230",
     "exception": false,
     "start_time": "2022-12-16T15:09:05.007264",
     "status": "completed"
    },
    "tags": []
   },
   "outputs": [],
   "source": [
    "def initialize_parameters(layer_dims):\n",
    "    \"\"\"\n",
    "    Inputs:\n",
    "    layer_dims - list of number of neurons in each layer\n",
    "    Returns:\n",
    "    Wl - Weight matrix of shape (layer_dims[l], layer_dims[l-1])\n",
    "    b1 - Bias vector of shape (layer_dims[l], 1)\n",
    "    \"\"\"\n",
    "    parameters = {}\n",
    "    L = len(layer_dims) # total no. of layers\n",
    "    \n",
    "    for l in range(1, L):\n",
    "        parameters['W' + str(l)] = np.random.randn(layer_dims[l], layer_dims[l-1]) * 0.01\n",
    "        parameters['b' + str(l)] = np.zeros((layer_dims[l], 1))\n",
    "    \n",
    "    return parameters"
   ]
  },
  {
   "cell_type": "code",
   "execution_count": 4,
   "id": "41186e52",
   "metadata": {
    "execution": {
     "iopub.execute_input": "2022-12-16T15:09:05.029283Z",
     "iopub.status.busy": "2022-12-16T15:09:05.028894Z",
     "iopub.status.idle": "2022-12-16T15:09:05.045596Z",
     "shell.execute_reply": "2022-12-16T15:09:05.044460Z"
    },
    "papermill": {
     "duration": 0.023259,
     "end_time": "2022-12-16T15:09:05.047887",
     "exception": false,
     "start_time": "2022-12-16T15:09:05.024628",
     "status": "completed"
    },
    "tags": []
   },
   "outputs": [],
   "source": [
    "def forward_propagation(A_prev, W, b, activation):\n",
    "    \"\"\"\n",
    "    Inputs:\n",
    "    A_prev - previous layer activation\n",
    "    W - weight, b - bias\n",
    "    Returns:\n",
    "    A - post-activation\n",
    "    \"\"\"\n",
    "    if activation == \"sigmoid\":\n",
    "        Z = np.dot(W, A_prev) + b\n",
    "        A = sigmoid(Z)\n",
    "        linear_cache = (A_prev, W, b)\n",
    "        activation_cache = Z\n",
    "    \n",
    "    elif activation == \"tanh\":\n",
    "        Z = np.dot(W, A_prev) + b\n",
    "        A = tanh(Z)\n",
    "        linear_cache = (A_prev, W, b)\n",
    "        activation_cache = Z\n",
    "        \n",
    "    elif activation == \"relu\":\n",
    "        Z = np.dot(W, A_prev) + b\n",
    "        A = relu(Z)\n",
    "        linear_cache = (A_prev, W, b)\n",
    "        activation_cache = Z\n",
    "    \n",
    "    elif activation == \"softmax\":\n",
    "        Z = np.dot(W, A_prev) + b\n",
    "        A = softmax(Z)\n",
    "        linear_cache = (A_prev, W, b)\n",
    "        activation_cache = Z\n",
    "        \n",
    "    cache = (linear_cache, activation_cache)\n",
    "    \n",
    "    return A, cache"
   ]
  },
  {
   "cell_type": "code",
   "execution_count": 5,
   "id": "cdfa4840",
   "metadata": {
    "execution": {
     "iopub.execute_input": "2022-12-16T15:09:05.056216Z",
     "iopub.status.busy": "2022-12-16T15:09:05.055865Z",
     "iopub.status.idle": "2022-12-16T15:09:05.065105Z",
     "shell.execute_reply": "2022-12-16T15:09:05.064019Z"
    },
    "papermill": {
     "duration": 0.015868,
     "end_time": "2022-12-16T15:09:05.067196",
     "exception": false,
     "start_time": "2022-12-16T15:09:05.051328",
     "status": "completed"
    },
    "tags": []
   },
   "outputs": [],
   "source": [
    "def L_forward_propagation(X, parameters, activation_hidden, activation_output):\n",
    "    \"\"\"\n",
    "    Inputs:\n",
    "    X - input layer\n",
    "    parameters - weights and biases of L layers\n",
    "    activation_hidden - hidden layer activation function\n",
    "    activation_output - output layer activation function\n",
    "    Returns:\n",
    "    AL - activation of the output layer\n",
    "    caches - linear and activation cache to back propagate easily\n",
    "    \"\"\"\n",
    "    caches = []\n",
    "    A = X\n",
    "    L = len(parameters) // 2\n",
    "    \n",
    "    for l in range(1, L):\n",
    "        A_prev = A\n",
    "        if activation_hidden == 'relu':\n",
    "            A, cache = forward_propagation(A_prev, parameters['W' + str(l)], parameters['b' + str(l)], 'relu')\n",
    "            caches.append(cache)\n",
    "        elif activation_hidden == 'tanh':\n",
    "            A, cache = forward_propagation(A_prev, parameters['W' + str(l)], parameters['b' + str(l)], 'tanh')\n",
    "            caches.append(cache)\n",
    "            \n",
    "    if activation_output == 'softmax':\n",
    "        AL, cache = forward_propagation(A, parameters['W' + str(L)], parameters['b' + str(L)], 'softmax')\n",
    "        caches.append(cache)\n",
    "    elif activation_output == 'sigmoid':\n",
    "        AL, cache = forward_propagation(A, parameters['W' + str(L)], parameters['b' + str(L)], 'sigmoid')\n",
    "        caches.append(cache)\n",
    "    \n",
    "    return AL, caches"
   ]
  },
  {
   "cell_type": "code",
   "execution_count": 6,
   "id": "0d470b5f",
   "metadata": {
    "execution": {
     "iopub.execute_input": "2022-12-16T15:09:05.075962Z",
     "iopub.status.busy": "2022-12-16T15:09:05.074939Z",
     "iopub.status.idle": "2022-12-16T15:09:05.080857Z",
     "shell.execute_reply": "2022-12-16T15:09:05.080028Z"
    },
    "papermill": {
     "duration": 0.01221,
     "end_time": "2022-12-16T15:09:05.082854",
     "exception": false,
     "start_time": "2022-12-16T15:09:05.070644",
     "status": "completed"
    },
    "tags": []
   },
   "outputs": [],
   "source": [
    "def compute_cost(AL, Y):\n",
    "    \"\"\"\n",
    "    Inputs:\n",
    "    AL - output layer activation\n",
    "    Y - true labels\n",
    "    Returns:\n",
    "    cost - cross-entropy cost\n",
    "    \"\"\"\n",
    "    \n",
    "    m = Y.shape[1]\n",
    "    cost = - (1 / m) * (np.dot(Y, np.log(AL).T) + np.dot(1-Y, np.log(1-AL).T))\n",
    "    cost = np.squeeze(cost)\n",
    "    \n",
    "    return cost"
   ]
  },
  {
   "cell_type": "code",
   "execution_count": 7,
   "id": "26b75b97",
   "metadata": {
    "execution": {
     "iopub.execute_input": "2022-12-16T15:09:05.090990Z",
     "iopub.status.busy": "2022-12-16T15:09:05.090360Z",
     "iopub.status.idle": "2022-12-16T15:09:05.096334Z",
     "shell.execute_reply": "2022-12-16T15:09:05.095378Z"
    },
    "papermill": {
     "duration": 0.01284,
     "end_time": "2022-12-16T15:09:05.098973",
     "exception": false,
     "start_time": "2022-12-16T15:09:05.086133",
     "status": "completed"
    },
    "tags": []
   },
   "outputs": [],
   "source": [
    "def linear_backward_propagation(dZ, cache):\n",
    "    \"\"\"\n",
    "    Inputs:\n",
    "    dZ - Gradient of the cost with respect to Z\n",
    "    cache - (A_prev, W, b) from the forward propapagtion\n",
    "    Returns:\n",
    "    dA_prev - Gradient of the cost w.r.t. A_prev\n",
    "    dW - Gradient of the cost w.r.t. W\n",
    "    db - Gradient of the cost w.r.t. b \n",
    "    \"\"\"\n",
    "    \n",
    "    A_prev, W, b = cache\n",
    "    m = A_prev.shape[1]\n",
    "    \n",
    "    dw = 1 / m * np.dot(dZ, A_prev.T)\n",
    "    db = 1 / m * np.sum(dZ, axis=1, keepdims=True)\n",
    "    dA_prev = np.dot(W.T, dZ)\n",
    "    \n",
    "    return dA_prev, dW, db"
   ]
  },
  {
   "cell_type": "code",
   "execution_count": 8,
   "id": "6c6f0153",
   "metadata": {
    "execution": {
     "iopub.execute_input": "2022-12-16T15:09:05.107777Z",
     "iopub.status.busy": "2022-12-16T15:09:05.107099Z",
     "iopub.status.idle": "2022-12-16T15:09:05.116114Z",
     "shell.execute_reply": "2022-12-16T15:09:05.115286Z"
    },
    "papermill": {
     "duration": 0.015859,
     "end_time": "2022-12-16T15:09:05.118367",
     "exception": false,
     "start_time": "2022-12-16T15:09:05.102508",
     "status": "completed"
    },
    "tags": []
   },
   "outputs": [],
   "source": [
    "def activation_backward_propagation(dA, cache, activation):\n",
    "    \"\"\"\n",
    "    Inputs:\n",
    "    dA - post activation gradient\n",
    "    cache - (linear_cache, activation_cache)\n",
    "    activation - activation function to be used\n",
    "    Returns:\n",
    "    dA_prev - Gradient of the cost w.r.t. A_prev\n",
    "    dW - Gradient of the cost w.r.t. W\n",
    "    db - Gradient of the cost w.r.t. b \n",
    "    \"\"\"\n",
    "    \n",
    "    linear_cache, activation_cache = cache\n",
    "    \n",
    "    if activation == 'sigmoid':\n",
    "        s = sigmoid(activation_cache)\n",
    "        dZ = dA * s * (1-s)\n",
    "        dA_prev, dW, db = linear_backward_propagation(dZ, linear_cache)\n",
    "    \n",
    "    elif activation == 'relu':\n",
    "        dZ = np.array(dA, copy=True)\n",
    "        dZ[activation_cache <= 0] = 0\n",
    "        dA_prev, dW, db = linear_backward_propagation(dZ, linear_cache)\n",
    "    \n",
    "    elif activation == 'tanh':\n",
    "        Z = tanh(activation_cache)\n",
    "        dZ = 1 - Z*Z\n",
    "        dA_prev, dW, db = linear_backward_propagation(dZ, linear_cache)\n",
    "    \n",
    "    elif activation == 'softmax':\n",
    "        tmp = activation_cache.reshape((-1,1))\n",
    "        dZ = np.diagflat(activation_cache) - np.dot(tmp, tmp.T)\n",
    "        dA_prev, dW, db = linear_backward_propagation(dZ, linear_cache)\n",
    "    \n",
    "    return dA_prev, dW, db"
   ]
  },
  {
   "cell_type": "code",
   "execution_count": 9,
   "id": "cd2b1a1c",
   "metadata": {
    "execution": {
     "iopub.execute_input": "2022-12-16T15:09:05.126780Z",
     "iopub.status.busy": "2022-12-16T15:09:05.126245Z",
     "iopub.status.idle": "2022-12-16T15:09:05.137431Z",
     "shell.execute_reply": "2022-12-16T15:09:05.136376Z"
    },
    "papermill": {
     "duration": 0.018106,
     "end_time": "2022-12-16T15:09:05.139822",
     "exception": false,
     "start_time": "2022-12-16T15:09:05.121716",
     "status": "completed"
    },
    "tags": []
   },
   "outputs": [],
   "source": [
    "def L_backward_propagation(AL, Y, caches, activation_hidden, activation_output):\n",
    "    \"\"\"\n",
    "    Inputs:\n",
    "    AL - ouput of L_model_forward()\n",
    "    Y - true label vector\n",
    "    caches - (linear_cache, activation_cache)\n",
    "    Returns:\n",
    "    grads - gradients of dAl, dWl, dbl, where l is the layer number\n",
    "    \"\"\"\n",
    "    \n",
    "    grads = {}\n",
    "    L = len(caches)\n",
    "    m = AL.shape[1]\n",
    "    Y = Y.reshape(AL.shape) # Y is same shape as AL\n",
    "    \n",
    "    if activation_output == 'sigmoid':\n",
    "        dAL = - (np.divide(Y, AL) - np.divide(1 - Y, 1 - AL))\n",
    "        current_cache = caches[L-1]\n",
    "        dA_prev_temp, dW_temp, db_temp = activation_backward_propagation(dAL, current_cache, \"sigmoid\")\n",
    "        grads[\"dA\" + str(L-1)] = dA_prev_temp\n",
    "        grads[\"dW\" + str(L)] = dW_temp\n",
    "        grads[\"db\" + str(L)] = db_temp\n",
    "    elif activation_output == 'softmax':\n",
    "        dAL = AL - Y\n",
    "        current_cache = caches[L-1]\n",
    "        dA_prev_temp, dW_temp, db_temp = activation_backward_propagation(dAL, current_cache, \"softmax\")\n",
    "        grads[\"dA\" + str(L-1)] = dA_prev_temp\n",
    "        grads[\"dW\" + str(L)] = dW_temp\n",
    "        grads[\"db\" + str(L)] = db_temp\n",
    "        \n",
    "    for l in reversed(range(L-1)):\n",
    "        current_cache = caches[l]\n",
    "        dA_prev_temp, dW_temp, db_temp = activation_backward_propagation(dA_prev_temp, current_cache, activation_hidden)\n",
    "        grads[\"dA\" + str(l)] = dA_prev_temp\n",
    "        grads[\"dW\" + str(l + 1)] = dW_temp\n",
    "        grads[\"db\" + str(l + 1)] = db_temp\n",
    "        \n",
    "    return grads"
   ]
  },
  {
   "cell_type": "code",
   "execution_count": 10,
   "id": "edacf594",
   "metadata": {
    "execution": {
     "iopub.execute_input": "2022-12-16T15:09:05.148348Z",
     "iopub.status.busy": "2022-12-16T15:09:05.147737Z",
     "iopub.status.idle": "2022-12-16T15:09:05.154770Z",
     "shell.execute_reply": "2022-12-16T15:09:05.153641Z"
    },
    "papermill": {
     "duration": 0.013581,
     "end_time": "2022-12-16T15:09:05.156844",
     "exception": false,
     "start_time": "2022-12-16T15:09:05.143263",
     "status": "completed"
    },
    "tags": []
   },
   "outputs": [],
   "source": [
    "def update_parameters(params, grads, learning_rate):\n",
    "    \"\"\"\n",
    "    Inputs:\n",
    "    params - parameters dictionary\n",
    "    grads - gradients dictionary\n",
    "    Returns:\n",
    "    parameters - updated parameters dictionary\n",
    "    \"\"\"\n",
    "    parameters = params.copy()\n",
    "    L = len(parameters) // 2\n",
    "    \n",
    "    for l in range(L):\n",
    "        parameters[\"W\" + str(l+1)] = parameters[\"W\" + str(l+1)] - learning_rate * grads[\"dW\" + str(l+1)]\n",
    "        parameters[\"b\" + str(l+1)] = parameters[\"b\" + str(l+1)] - learning_rate * grads[\"db\" + str(l+1)]\n",
    "    \n",
    "    return parameters"
   ]
  }
 ],
 "metadata": {
  "kernelspec": {
   "display_name": "Python 3",
   "language": "python",
   "name": "python3"
  },
  "language_info": {
   "codemirror_mode": {
    "name": "ipython",
    "version": 3
   },
   "file_extension": ".py",
   "mimetype": "text/x-python",
   "name": "python",
   "nbconvert_exporter": "python",
   "pygments_lexer": "ipython3",
   "version": "3.7.12"
  },
  "papermill": {
   "default_parameters": {},
   "duration": 8.941333,
   "end_time": "2022-12-16T15:09:05.779808",
   "environment_variables": {},
   "exception": null,
   "input_path": "__notebook__.ipynb",
   "output_path": "__notebook__.ipynb",
   "parameters": {},
   "start_time": "2022-12-16T15:08:56.838475",
   "version": "2.3.4"
  }
 },
 "nbformat": 4,
 "nbformat_minor": 5
}
